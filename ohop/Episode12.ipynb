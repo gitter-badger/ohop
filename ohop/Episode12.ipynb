{
 "cells": [
  {
   "cell_type": "code",
   "execution_count": 1,
   "id": "396d5de2",
   "metadata": {},
   "outputs": [],
   "source": [
    "import ast, copy, dis\n",
    "import nbimport"
   ]
  },
  {
   "cell_type": "code",
   "execution_count": 2,
   "id": "5890ff17",
   "metadata": {},
   "outputs": [],
   "source": [
    "import Episode11"
   ]
  },
  {
   "cell_type": "markdown",
   "id": "c4122701",
   "metadata": {},
   "source": [
    "# Hazards of substitution"
   ]
  },
  {
   "cell_type": "code",
   "execution_count": 5,
   "id": "7e2d7d61",
   "metadata": {},
   "outputs": [
    {
     "name": "stdout",
     "output_type": "stream",
     "text": [
      "Name(id='x', ctx=Load())\n",
      "-->\n",
      "Constant(value=99)\n",
      "Name(id='x', ctx=Load())\n",
      "-->\n",
      "Constant(value=99)\n",
      "Call(\n",
      "  func=Name(id='f', ctx=Load()),\n",
      "  args=[\n",
      "    Constant(value=99)],\n",
      "  keywords=[])\n",
      "-->\n",
      "Subscript(\n",
      "  value=Tuple(\n",
      "    elts=[\n",
      "      NamedExpr(\n",
      "        target=Name(id='z', ctx=Store()),\n",
      "        value=BinOp(\n",
      "          left=Constant(value=99),\n",
      "          op=Pow(),\n",
      "          right=Constant(value=2))),\n",
      "      BinOp(\n",
      "        left=BinOp(\n",
      "          left=Name(id='z', ctx=Load()),\n",
      "          op=Add(),\n",
      "          right=Constant(value=99)),\n",
      "        op=Add(),\n",
      "        right=Constant(value=1))],\n",
      "    ctx=Load()),\n",
      "  slice=UnaryOp(\n",
      "    op=USub(),\n",
      "    operand=Constant(value=1)),\n",
      "  ctx=Load())\n",
      "===\n",
      "Module(\n",
      "  body=[\n",
      "    FunctionDef(\n",
      "      name='wonkification',\n",
      "      args=arguments(\n",
      "        posonlyargs=[],\n",
      "        args=[],\n",
      "        kwonlyargs=[],\n",
      "        kw_defaults=[],\n",
      "        defaults=[]),\n",
      "      body=[\n",
      "        Assign(\n",
      "          targets=[\n",
      "            Name(id='z', ctx=Store())],\n",
      "          value=Constant(value=42)),\n",
      "        Expr(\n",
      "          value=Subscript(\n",
      "            value=Tuple(\n",
      "              elts=[\n",
      "                NamedExpr(\n",
      "                  target=Name(id='z', ctx=Store()),\n",
      "                  value=BinOp(\n",
      "                    left=Constant(value=99),\n",
      "                    op=Pow(),\n",
      "                    right=Constant(value=2))),\n",
      "                BinOp(\n",
      "                  left=BinOp(\n",
      "                    left=Name(id='z', ctx=Load()),\n",
      "                    op=Add(),\n",
      "                    right=Constant(value=99)),\n",
      "                  op=Add(),\n",
      "                  right=Constant(value=1))],\n",
      "              ctx=Load()),\n",
      "            slice=UnaryOp(\n",
      "              op=USub(),\n",
      "              operand=Constant(value=1)),\n",
      "            ctx=Load())),\n",
      "        Return(\n",
      "          value=Name(id='z', ctx=Load()))],\n",
      "      decorator_list=[])],\n",
      "  type_ignores=[])\n"
     ]
    }
   ],
   "source": [
    "inline_lambda = Episode11.inline_lambda\n",
    "transformer = inline_lambda('f', 'lambda x: (z := x ** 2, z + x + 1)[-1]')\n",
    "test0 = transformer('''\n",
    "def wonkification():\n",
    "    z = 42\n",
    "    f(99)\n",
    "    return z\n",
    "''')\n",
    "print(ast.dump(test0, indent=2))"
   ]
  },
  {
   "cell_type": "code",
   "execution_count": 6,
   "id": "b5065cfd",
   "metadata": {},
   "outputs": [
    {
     "name": "stdout",
     "output_type": "stream",
     "text": [
      "def wonkification():\n",
      "    z = 42\n",
      "    ((z := (99 ** 2)), z + 99 + 1)[-1]\n",
      "    return z\n"
     ]
    }
   ],
   "source": [
    "print(ast.unparse(test0))"
   ]
  },
  {
   "cell_type": "code",
   "execution_count": 8,
   "id": "6ea7b31f",
   "metadata": {},
   "outputs": [],
   "source": [
    "exec(compile(test0, '<string>', 'exec'))"
   ]
  },
  {
   "cell_type": "code",
   "execution_count": 9,
   "id": "e673cd14",
   "metadata": {},
   "outputs": [
    {
     "data": {
      "text/plain": [
       "9801"
      ]
     },
     "execution_count": 9,
     "metadata": {},
     "output_type": "execute_result"
    }
   ],
   "source": [
    "wonkification()"
   ]
  },
  {
   "cell_type": "code",
   "execution_count": 11,
   "id": "1a820905",
   "metadata": {},
   "outputs": [],
   "source": [
    "transformer2 = inline_lambda('f', 'lambda x: (print(\"howdee\"), x ** 2 + x + 1)[-1]')"
   ]
  },
  {
   "cell_type": "code",
   "execution_count": 12,
   "id": "fc3b706f",
   "metadata": {},
   "outputs": [
    {
     "name": "stdout",
     "output_type": "stream",
     "text": [
      "Name(id='x', ctx=Load())\n",
      "-->\n",
      "Constant(value=42)\n",
      "Name(id='x', ctx=Load())\n",
      "-->\n",
      "Constant(value=42)\n",
      "Call(\n",
      "  func=Name(id='f', ctx=Load()),\n",
      "  args=[\n",
      "    Constant(value=42)],\n",
      "  keywords=[])\n",
      "-->\n",
      "Subscript(\n",
      "  value=Tuple(\n",
      "    elts=[\n",
      "      Call(\n",
      "        func=Name(id='print', ctx=Load()),\n",
      "        args=[\n",
      "          Constant(value='howdee')],\n",
      "        keywords=[]),\n",
      "      BinOp(\n",
      "        left=BinOp(\n",
      "          left=BinOp(\n",
      "            left=Constant(value=42),\n",
      "            op=Pow(),\n",
      "            right=Constant(value=2)),\n",
      "          op=Add(),\n",
      "          right=Constant(value=42)),\n",
      "        op=Add(),\n",
      "        right=Constant(value=1))],\n",
      "    ctx=Load()),\n",
      "  slice=UnaryOp(\n",
      "    op=USub(),\n",
      "    operand=Constant(value=1)),\n",
      "  ctx=Load())\n",
      "===\n"
     ]
    },
    {
     "data": {
      "text/plain": [
       "<ast.Module at 0x10b2ead00>"
      ]
     },
     "execution_count": 12,
     "metadata": {},
     "output_type": "execute_result"
    }
   ],
   "source": [
    "%%mycell transformer2\n",
    "def sillify():\n",
    "    return f(42)\n"
   ]
  },
  {
   "cell_type": "code",
   "execution_count": 13,
   "id": "d8927493",
   "metadata": {},
   "outputs": [],
   "source": [
    "exec(compile(_12, '<string>', 'exec'))"
   ]
  },
  {
   "cell_type": "code",
   "execution_count": 14,
   "id": "26a09740",
   "metadata": {},
   "outputs": [
    {
     "name": "stdout",
     "output_type": "stream",
     "text": [
      "howdee\n"
     ]
    },
    {
     "data": {
      "text/plain": [
       "1807"
      ]
     },
     "execution_count": 14,
     "metadata": {},
     "output_type": "execute_result"
    }
   ],
   "source": [
    "sillify()"
   ]
  },
  {
   "cell_type": "code",
   "execution_count": 15,
   "id": "677fc2b6",
   "metadata": {},
   "outputs": [
    {
     "name": "stdout",
     "output_type": "stream",
     "text": [
      "Name(id='x', ctx=Load())\n",
      "-->\n",
      "Constant(value=43)\n",
      "Name(id='x', ctx=Load())\n",
      "-->\n",
      "Constant(value=43)\n",
      "Call(\n",
      "  func=Name(id='f', ctx=Load()),\n",
      "  args=[\n",
      "    Constant(value=43)],\n",
      "  keywords=[])\n",
      "-->\n",
      "Subscript(\n",
      "  value=Tuple(\n",
      "    elts=[\n",
      "      Call(\n",
      "        func=Name(id='print', ctx=Load()),\n",
      "        args=[\n",
      "          Constant(value='howdee')],\n",
      "        keywords=[]),\n",
      "      BinOp(\n",
      "        left=BinOp(\n",
      "          left=BinOp(\n",
      "            left=Constant(value=43),\n",
      "            op=Pow(),\n",
      "            right=Constant(value=2)),\n",
      "          op=Add(),\n",
      "          right=Constant(value=43)),\n",
      "        op=Add(),\n",
      "        right=Constant(value=1))],\n",
      "    ctx=Load()),\n",
      "  slice=UnaryOp(\n",
      "    op=USub(),\n",
      "    operand=Constant(value=1)),\n",
      "  ctx=Load())\n",
      "===\n"
     ]
    },
    {
     "data": {
      "text/plain": [
       "<ast.Module at 0x10b2f0130>"
      ]
     },
     "execution_count": 15,
     "metadata": {},
     "output_type": "execute_result"
    }
   ],
   "source": [
    "%%mycell transformer2\n",
    "def print(*args, **kws):\n",
    "    pass\n",
    "\n",
    "def stupify():\n",
    "    return f(43)\n",
    "\n",
    "stupify()"
   ]
  },
  {
   "cell_type": "code",
   "execution_count": 16,
   "id": "7502dfbe",
   "metadata": {},
   "outputs": [],
   "source": [
    "exec(compile(_15, '<string>', 'exec'))"
   ]
  },
  {
   "cell_type": "code",
   "execution_count": 17,
   "id": "4424073c",
   "metadata": {},
   "outputs": [
    {
     "data": {
      "text/plain": [
       "'Nope.'"
      ]
     },
     "execution_count": 17,
     "metadata": {},
     "output_type": "execute_result"
    }
   ],
   "source": [
    "# Let's see if overloading print() has screwed output up...\n",
    "'Nope.'"
   ]
  },
  {
   "cell_type": "code",
   "execution_count": 19,
   "id": "8caccb4a",
   "metadata": {},
   "outputs": [],
   "source": [
    "print(ast.unparse(_15))"
   ]
  },
  {
   "cell_type": "code",
   "execution_count": 20,
   "id": "77dd5127",
   "metadata": {},
   "outputs": [
    {
     "data": {
      "text/plain": [
       "1893"
      ]
     },
     "execution_count": 20,
     "metadata": {},
     "output_type": "execute_result"
    }
   ],
   "source": [
    "stupify()"
   ]
  },
  {
   "cell_type": "code",
   "execution_count": 21,
   "id": "2bac0c67",
   "metadata": {},
   "outputs": [
    {
     "name": "stdout",
     "output_type": "stream",
     "text": [
      "def print(*args, **kws):\n",
      "    pass\n",
      "\n",
      "def stupify():\n",
      "    return (print('howdee'), 43 ** 2 + 43 + 1)[-1]\n",
      "stupify()\n"
     ]
    }
   ],
   "source": [
    "print = __builtins__.print\n",
    "print(ast.unparse(_15))"
   ]
  },
  {
   "cell_type": "markdown",
   "id": "9725d0d1",
   "metadata": {},
   "source": [
    "# Putting lambda substitution into a module"
   ]
  },
  {
   "cell_type": "code",
   "execution_count": 32,
   "id": "dac25e1c",
   "metadata": {},
   "outputs": [
    {
     "data": {
      "text/plain": [
       "<module 'sublambda' from '/Users/jon/git/ohop/ohop/sublambda.py'>"
      ]
     },
     "execution_count": 32,
     "metadata": {},
     "output_type": "execute_result"
    }
   ],
   "source": [
    "import sublambda\n",
    "from importlib import reload\n",
    "reload(sublambda)"
   ]
  },
  {
   "cell_type": "code",
   "execution_count": 33,
   "id": "5aa3786f",
   "metadata": {},
   "outputs": [
    {
     "data": {
      "text/plain": [
       "<function sublambda.inline_lambdas.<locals>.inliner(source)>"
      ]
     },
     "execution_count": 33,
     "metadata": {},
     "output_type": "execute_result"
    }
   ],
   "source": [
    "%%mycell sublambda.build_sublambdas\n",
    "f lambda x: x ** 2 + x + 1\n",
    "g lambda y: y ** 3 - y"
   ]
  },
  {
   "cell_type": "code",
   "execution_count": null,
   "id": "0edbb489",
   "metadata": {},
   "outputs": [],
   "source": [
    "# TODO: Test it out..."
   ]
  }
 ],
 "metadata": {
  "kernelspec": {
   "display_name": "Python 3 (ipykernel)",
   "language": "python",
   "name": "python3"
  },
  "language_info": {
   "codemirror_mode": {
    "name": "ipython",
    "version": 3
   },
   "file_extension": ".py",
   "mimetype": "text/x-python",
   "name": "python",
   "nbconvert_exporter": "python",
   "pygments_lexer": "ipython3",
   "version": "3.9.5"
  }
 },
 "nbformat": 4,
 "nbformat_minor": 5
}
