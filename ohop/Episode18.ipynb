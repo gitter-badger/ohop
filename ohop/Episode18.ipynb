{
 "cells": [
  {
   "cell_type": "markdown",
   "id": "1c7542d8",
   "metadata": {},
   "source": [
    "# Episode 18: Parsing with PyParsing\n",
    "\n",
    "Battered by Imperial Algebraic Formalisms, we now seek shelter in the caves of declarative code using the PyParsing library (https://github.com/pyparsing/pyparsing/).\n",
    "\n",
    "Having already struggled with parsing by hand, and the soon to be infamous SLY tooling, perhaps our rag-tag band will find some relief in recognizing the calculator language using expressions instead of imperative code or grammar definitions!"
   ]
  },
  {
   "cell_type": "code",
   "execution_count": 1,
   "id": "cc3f1c6a",
   "metadata": {},
   "outputs": [
    {
     "name": "stdout",
     "output_type": "stream",
     "text": [
      "Requirement already satisfied: pyparsing in /Users/jon/miniforge3/envs/ohop/lib/python3.9/site-packages (2.4.7)\r\n"
     ]
    }
   ],
   "source": [
    "!pip install pyparsing\n",
    "# Once more `conda install pyparsing` would also work...\n",
    "import nbimport\n",
    "import Episode17"
   ]
  },
  {
   "cell_type": "markdown",
   "id": "70c06188",
   "metadata": {},
   "source": [
    "## Step 1: Lexical Analysis"
   ]
  },
  {
   "cell_type": "code",
   "execution_count": 2,
   "id": "fd5530cf",
   "metadata": {},
   "outputs": [],
   "source": [
    "import pyparsing\n",
    "from pyparsing import Word, LineEnd, alphas, nums\n",
    "pyparsing.ParserElement.setDefaultWhitespaceChars(' \\t')"
   ]
  },
  {
   "cell_type": "code",
   "execution_count": 3,
   "id": "8d92bad2",
   "metadata": {},
   "outputs": [
    {
     "data": {
      "text/plain": [
       "(['ABC123'], {})"
      ]
     },
     "execution_count": 3,
     "metadata": {},
     "output_type": "execute_result"
    }
   ],
   "source": [
    "ID = pyparsing.Combine(pyparsing.Char(alphas) + pyparsing.ZeroOrMore(pyparsing.Char(pyparsing.alphanums)))\n",
    "ID.parseString('ABC123 1234')"
   ]
  },
  {
   "cell_type": "code",
   "execution_count": 4,
   "id": "0cf75c95",
   "metadata": {},
   "outputs": [
    {
     "data": {
      "text/plain": [
       "(['1234'], {})"
      ]
     },
     "execution_count": 4,
     "metadata": {},
     "output_type": "execute_result"
    }
   ],
   "source": [
    "NUM = Word(nums)\n",
    "NUM.parseString('1234')"
   ]
  },
  {
   "cell_type": "code",
   "execution_count": 5,
   "id": "2859a335",
   "metadata": {},
   "outputs": [
    {
     "data": {
      "text/plain": [
       "((['1234'], {}), (['abC33'], {}))"
      ]
     },
     "execution_count": 5,
     "metadata": {},
     "output_type": "execute_result"
    }
   ],
   "source": [
    "atom = ID ^ NUM\n",
    "atom.parseString('1234'), atom.parseString('abC33')"
   ]
  },
  {
   "cell_type": "code",
   "execution_count": 6,
   "id": "549d640e",
   "metadata": {},
   "outputs": [
    {
     "data": {
      "text/plain": [
       "((['+'], {}), (['-'], {}))"
      ]
     },
     "execution_count": 6,
     "metadata": {},
     "output_type": "execute_result"
    }
   ],
   "source": [
    "op = pyparsing.Char('+-')\n",
    "op.parseString('+-+-'), op.parseString('- 42')"
   ]
  },
  {
   "cell_type": "code",
   "execution_count": 8,
   "id": "656225fc",
   "metadata": {},
   "outputs": [
    {
     "data": {
      "text/plain": [
       "(['1', '+', '2', '-', '3', '\\n', 'A', '=', '42', '\\n'], {})"
      ]
     },
     "execution_count": 8,
     "metadata": {},
     "output_type": "execute_result"
    }
   ],
   "source": [
    "token_test = (LineEnd() ^ atom ^ op ^ '=')[...]\n",
    "test_src = '1 + 2 - 3\\nA = 42\\n'\n",
    "token_test.parseString(test_src)"
   ]
  },
  {
   "cell_type": "code",
   "execution_count": 9,
   "id": "e875f815",
   "metadata": {},
   "outputs": [
    {
     "data": {
      "text/plain": [
       "(['1', '+', '2', '-', '3', '\\n', 'A', '=', '42', '\\n'], {})"
      ]
     },
     "execution_count": 9,
     "metadata": {},
     "output_type": "execute_result"
    }
   ],
   "source": [
    "token_test2 = (LineEnd() | atom | op | '=')[...]\n",
    "token_test2.parseString(test_src)"
   ]
  },
  {
   "cell_type": "markdown",
   "id": "e64677ca",
   "metadata": {},
   "source": [
    "## Step 2: Syntactic Analysis"
   ]
  },
  {
   "cell_type": "code",
   "execution_count": 10,
   "id": "1891a814",
   "metadata": {},
   "outputs": [],
   "source": [
    "expression = pyparsing.Forward()\n",
    "expression <<= atom + pyparsing.Optional(op + expression)\n",
    "assign = ID + '=' + expression\n",
    "statement = (assign | expression) + LineEnd()\n",
    "statements = statement[...]"
   ]
  },
  {
   "cell_type": "markdown",
   "id": "1960dad3",
   "metadata": {},
   "source": [
    "## Step 3: There is NO Step 3...\n",
    "\n",
    "Or is there?"
   ]
  },
  {
   "cell_type": "code",
   "execution_count": 11,
   "id": "5f92a64b",
   "metadata": {},
   "outputs": [
    {
     "data": {
      "text/plain": [
       "(['1', '+', '2', '-', '3', '\\n', 'A', '=', '42', '\\n'], {})"
      ]
     },
     "execution_count": 11,
     "metadata": {},
     "output_type": "execute_result"
    }
   ],
   "source": [
    "statements.parseString(test_src)"
   ]
  },
  {
   "cell_type": "code",
   "execution_count": 12,
   "id": "ac037ebc",
   "metadata": {},
   "outputs": [
    {
     "data": {
      "text/plain": [
       "(['1', '+', '2', '-', '3', '\\n', 'A', '=', '42', '\\n'], {})"
      ]
     },
     "execution_count": 12,
     "metadata": {},
     "output_type": "execute_result"
    }
   ],
   "source": [
    "statements.parseString(test_src, parseAll=True)"
   ]
  },
  {
   "cell_type": "code",
   "execution_count": 14,
   "id": "f457a74d",
   "metadata": {},
   "outputs": [
    {
     "name": "stdout",
     "output_type": "stream",
     "text": [
      "Match [Group:({{{Combine:({W:(ABCD...) [W:(ABCD...)]...}) \"=\" Forward: {{Combine:({W:(ABCD...) [W:(ABCD...)]...}) ^ W:(0123...)} [{W:(+-) : ...}]}} ^ Forward: {{Combine:({W:(ABCD...) [W:(ABCD...)]...}) ^ W:(0123...)} [{W:(+-) : ...}]}} LineEnd})]... at loc 0(1,1)\n",
      "Matched [Group:({{{Combine:({W:(ABCD...) [W:(ABCD...)]...}) \"=\" Forward: {{Combine:({W:(ABCD...) [W:(ABCD...)]...}) ^ W:(0123...)} [{W:(+-) : ...}]}} ^ Forward: {{Combine:({W:(ABCD...) [W:(ABCD...)]...}) ^ W:(0123...)} [{W:(+-) : ...}]}} LineEnd})]... -> [['1', '+', '2', '-', '3', '\\n'], ['A', '=', '42', '\\n']]\n"
     ]
    },
    {
     "data": {
      "text/plain": [
       "([(['1', '+', '2', '-', '3', '\\n'], {}), (['A', '=', '42', '\\n'], {})], {})"
      ]
     },
     "execution_count": 14,
     "metadata": {},
     "output_type": "execute_result"
    }
   ],
   "source": [
    "statement2 = pyparsing.Group((assign ^ expression) + LineEnd())\n",
    "statements2 = statement2[...]\n",
    "statements2.setDebug()\n",
    "statements2.parseString(test_src, parseAll=True)"
   ]
  },
  {
   "cell_type": "markdown",
   "id": "8c59a783",
   "metadata": {},
   "source": [
    "### Cruft...\n",
    "\n",
    "...from an abortive attempt to use `setDefaultWhitespaceChars()` after the fact."
   ]
  },
  {
   "cell_type": "code",
   "execution_count": null,
   "id": "41261e2c",
   "metadata": {},
   "outputs": [],
   "source": [
    "statements.setDebug()\n",
    "statements.parseString(test_src, parseAll=True)"
   ]
  },
  {
   "cell_type": "code",
   "execution_count": null,
   "id": "136d7409",
   "metadata": {},
   "outputs": [],
   "source": [
    "statements.setDefaultWhitespaceChars = pyparsing.ParserElement.setDefaultWhitespaceChars\n",
    "statements.setDefaultWhitespaceChars(' \\t')\n",
    "statements.parseString(test_src, parseAll=True)"
   ]
  },
  {
   "cell_type": "code",
   "execution_count": null,
   "id": "3d390fb6",
   "metadata": {},
   "outputs": [],
   "source": [
    "pyparsing.ParserElement.setDefaultWhitespaceChars(' \\t')\n",
    "ID = Word(alphas)\n",
    "atom = ID | Word(nums)\n",
    "expression = pyparsing.Forward()\n",
    "expression <<= atom + pyparsing.Optional(op + expression)\n",
    "assign = ID + '=' + expression\n",
    "statement = (assign | expression) + LineEnd()\n",
    "statements = statement[...]"
   ]
  },
  {
   "cell_type": "code",
   "execution_count": null,
   "id": "6ec663a2",
   "metadata": {},
   "outputs": [],
   "source": [
    "statements.parseString(test_src, parseAll=True)"
   ]
  },
  {
   "cell_type": "code",
   "execution_count": null,
   "id": "d3cfb0a5",
   "metadata": {},
   "outputs": [],
   "source": []
  }
 ],
 "metadata": {
  "kernelspec": {
   "display_name": "Python 3 (ipykernel)",
   "language": "python",
   "name": "python3"
  },
  "language_info": {
   "codemirror_mode": {
    "name": "ipython",
    "version": 3
   },
   "file_extension": ".py",
   "mimetype": "text/x-python",
   "name": "python",
   "nbconvert_exporter": "python",
   "pygments_lexer": "ipython3",
   "version": "3.9.7"
  }
 },
 "nbformat": 4,
 "nbformat_minor": 5
}
