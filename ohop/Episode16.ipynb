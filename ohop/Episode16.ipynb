{
 "cells": [
  {
   "cell_type": "markdown",
   "id": "b75dbc7f",
   "metadata": {},
   "source": [
    "# Episode 16: Handmade Parsers\n",
    "\n",
    "Calculators are the wave of the past...long live calculators!\n",
    "\n",
    "To make matters even more old school, let's write a simple calculator language by hand!\n",
    "\n",
    "Grammar:\n",
    "\n",
    "```\n",
    "statements : EMPTY | statement statements\n",
    "statement  : (assign | expression) '\\n'\n",
    "assign     : ID '=' expression\n",
    "expression : atom (op expression)?\n",
    "atom       : ID | NUM\n",
    "op         : '+' | '-'\n",
    "```\n",
    "\n",
    "## Step 1: Lexical Analysis"
   ]
  },
  {
   "cell_type": "code",
   "execution_count": 1,
   "id": "f473f8e3",
   "metadata": {},
   "outputs": [],
   "source": [
    "import typing\n",
    "\n",
    "EMPTY = 0\n",
    "NL = 1\n",
    "ID = 2\n",
    "EQ = 3\n",
    "NUM = 4\n",
    "PLUS = 5\n",
    "MINUS = 6\n",
    "\n",
    "Token = typing.Tuple[int, str]\n",
    "\n",
    "def calc_lexer(source: str) -> typing.Iterator[Token]:\n",
    "    index = 0\n",
    "    while index < len(source):\n",
    "        char = source[index]\n",
    "        if char in ' \\t':\n",
    "            pass\n",
    "        elif char == '\\n':\n",
    "            yield (NL, char)\n",
    "        elif char.isalpha():\n",
    "            result = char\n",
    "            index += 1\n",
    "            if index < len(source):\n",
    "                char = source[index]\n",
    "                while index < len(source) and char.isalpha():\n",
    "                    result += char\n",
    "                    index += 1\n",
    "                    char = source[index]\n",
    "            yield (ID, result)\n",
    "            continue\n",
    "        elif char == '=':\n",
    "            yield (EQ, char)\n",
    "        elif char.isdigit():\n",
    "            result = char\n",
    "            index += 1\n",
    "            if index < len(source):\n",
    "                char = source[index]\n",
    "                while index < len(source) and char.isdigit():\n",
    "                    result += char\n",
    "                    index += 1\n",
    "                    char = source[index]\n",
    "            yield(NUM, result)\n",
    "            continue\n",
    "        elif char == '+':\n",
    "            yield (PLUS, char)\n",
    "        elif char == '-':\n",
    "            yield (MINUS, char)\n",
    "        else:\n",
    "            raise SyntaxError(f'Unexpected character in input string: {char}')\n",
    "        index += 1\n",
    "    yield (EMPTY, '')"
   ]
  },
  {
   "cell_type": "code",
   "execution_count": 2,
   "id": "21277a38",
   "metadata": {},
   "outputs": [
    {
     "data": {
      "text/plain": [
       "[(2, 'A'),\n",
       " (3, '='),\n",
       " (4, '2'),\n",
       " (1, '\\n'),\n",
       " (2, 'B'),\n",
       " (3, '='),\n",
       " (4, '3'),\n",
       " (1, '\\n'),\n",
       " (2, 'A'),\n",
       " (5, '+'),\n",
       " (2, 'B'),\n",
       " (0, '')]"
      ]
     },
     "execution_count": 2,
     "metadata": {},
     "output_type": "execute_result"
    }
   ],
   "source": [
    "list(calc_lexer('A = 2\\nB = 3\\nA + B'))"
   ]
  },
  {
   "cell_type": "markdown",
   "id": "904e8422",
   "metadata": {},
   "source": [
    "## Step 2: Syntactic Analysis"
   ]
  },
  {
   "cell_type": "code",
   "execution_count": 3,
   "id": "cbd21f2b",
   "metadata": {},
   "outputs": [],
   "source": [
    "import itertools\n",
    "\n",
    "class Tokens:\n",
    "    def __init__(self, stream: typing.Iterator[Token]):\n",
    "        self.lookahead = []\n",
    "        self.stream = stream\n",
    "        \n",
    "    def peek(self):\n",
    "        next_token = next(self.stream)\n",
    "        self.lookahead.append(next_token)\n",
    "        return self.lookahead[-1]\n",
    "    \n",
    "    def unpeek(self):\n",
    "        self.lookahead.reverse()\n",
    "        self.stream = itertools.chain(self.lookahead, self.stream)\n",
    "        self.lookahead = []\n",
    "        \n",
    "    def next_token(self):\n",
    "        result = None\n",
    "        if len(self.lookahead) > 0:\n",
    "            result = self.lookahead.pop()\n",
    "        else:\n",
    "            result = next(self.stream)\n",
    "        return result        \n",
    "\n",
    "class Tree(typing.NamedTuple):\n",
    "    contents: typing.Union[str, Token]\n",
    "    children: typing.List['Tree']\n",
    "\n",
    "def parse_statements(tokens: Tokens) -> Tree:\n",
    "    token = tokens.peek()\n",
    "    if token[0] == EMPTY:\n",
    "        result = Tree(token, [])\n",
    "    else:\n",
    "        tokens.unpeek()\n",
    "        child_0 = parse_statement(tokens)\n",
    "        child_1 = parse_statements(tokens)\n",
    "        result = Tree('statements', [child_0, child_1])\n",
    "    return result\n",
    "\n",
    "def parse_statement(tokens: Tokens) -> Tree:\n",
    "    token = tokens.peek()\n",
    "    if token[0] == ID:\n",
    "        token = tokens.peek()\n",
    "        tokens.unpeek()\n",
    "        if token[0] == EQ:\n",
    "            child_result = parse_assign(tokens)\n",
    "        else:\n",
    "            child_result = parse_expression(tokens)\n",
    "    else:\n",
    "        tokens.unpeek()\n",
    "        child_result = parse_expression(tokens)\n",
    "    nl_token = tokens.next_token()\n",
    "    assert nl_token[0] == NL\n",
    "    return Tree('statement', [child_result, Tree(nl_token, [])])\n",
    "\n",
    "def parse_assign(tokens: Tokens) -> Tree:\n",
    "    identifier = tokens.next_token()\n",
    "    assert identifier[0] == ID\n",
    "    eq = tokens.next_token()\n",
    "    assert eq[0] == EQ\n",
    "    rhs = parse_expression(tokens)\n",
    "    return Tree('assign', [Tree(identifier, []), Tree(eq, []), rhs])\n",
    "\n",
    "def parse_expression(tokens: Tokens) -> Tree:\n",
    "    atom = parse_atom(tokens)\n",
    "    token = tokens.peek()\n",
    "    tokens.unpeek()\n",
    "    if token[0] in (PLUS, MINUS):\n",
    "        op = parse_op(tokens)\n",
    "        rhs = parse_expression(tokens)\n",
    "        result = Tree('expression', [atom, op, rhs])\n",
    "    else:\n",
    "        result = atom\n",
    "    return result\n",
    "\n",
    "def parse_atom(tokens: Tokens) -> Tree:\n",
    "    token = tokens.next_token()\n",
    "    assert token[0] in (ID, NUM)\n",
    "    return Tree('atom', [Tree(token, [])])\n",
    "\n",
    "def parse_op(tokens: Tokens) -> Tree:\n",
    "    token = tokens.next_token()\n",
    "    assert token[0] in (PLUS, MINUS)\n",
    "    return Tree('op', [Tree(token, [])])\n",
    "\n",
    "def calc_parse(tokens: Token) -> Tree:\n",
    "    return parse_statements(tokens)"
   ]
  },
  {
   "cell_type": "markdown",
   "id": "128e8af2",
   "metadata": {},
   "source": [
    "## Step 3: Tie Everything Together"
   ]
  },
  {
   "cell_type": "code",
   "execution_count": 4,
   "id": "03ca7712",
   "metadata": {},
   "outputs": [],
   "source": [
    "def calc_frontend(source: str) -> Tree:\n",
    "    return calc_parse(Tokens(calc_lexer(source)))"
   ]
  },
  {
   "cell_type": "code",
   "execution_count": 5,
   "id": "cda37d31",
   "metadata": {},
   "outputs": [
    {
     "data": {
      "text/plain": [
       "Tree(contents='statements', children=[Tree(contents='statement', children=[Tree(contents='expression', children=[Tree(contents='atom', children=[Tree(contents=(4, '1'), children=[])]), Tree(contents='op', children=[Tree(contents=(5, '+'), children=[])]), Tree(contents='expression', children=[Tree(contents='atom', children=[Tree(contents=(4, '3'), children=[])]), Tree(contents='op', children=[Tree(contents=(6, '-'), children=[])]), Tree(contents='atom', children=[Tree(contents=(4, '5'), children=[])])])]), Tree(contents=(1, '\\n'), children=[])]), Tree(contents=(0, ''), children=[])])"
      ]
     },
     "execution_count": 5,
     "metadata": {},
     "output_type": "execute_result"
    }
   ],
   "source": [
    "quick_test_result = calc_frontend('1 + 3 - 5\\n')\n",
    "quick_test_result"
   ]
  },
  {
   "cell_type": "code",
   "execution_count": 6,
   "id": "741e165d",
   "metadata": {},
   "outputs": [
    {
     "data": {
      "text/plain": [
       "('statements',\n",
       " [('statement',\n",
       "   [('expression',\n",
       "     [('atom', [((4, '1'), [])]),\n",
       "      ('op', [((5, '+'), [])]),\n",
       "      ('expression',\n",
       "       [('atom', [((4, '3'), [])]),\n",
       "        ('op', [((6, '-'), [])]),\n",
       "        ('atom', [((4, '5'), [])])])]),\n",
       "    ((1, '\\n'), [])]),\n",
       "  ((0, ''), [])])"
      ]
     },
     "execution_count": 6,
     "metadata": {},
     "output_type": "execute_result"
    }
   ],
   "source": [
    "def tree_to_tuple(tree):\n",
    "    return tree.contents, [tree_to_tuple(child) for child in tree.children]\n",
    "tree_to_tuple(quick_test_result)"
   ]
  },
  {
   "cell_type": "code",
   "execution_count": null,
   "id": "b4bc148e",
   "metadata": {},
   "outputs": [],
   "source": []
  }
 ],
 "metadata": {
  "kernelspec": {
   "display_name": "Python 3 (ipykernel)",
   "language": "python",
   "name": "python3"
  },
  "language_info": {
   "codemirror_mode": {
    "name": "ipython",
    "version": 3
   },
   "file_extension": ".py",
   "mimetype": "text/x-python",
   "name": "python",
   "nbconvert_exporter": "python",
   "pygments_lexer": "ipython3",
   "version": "3.9.7"
  }
 },
 "nbformat": 4,
 "nbformat_minor": 5
}
