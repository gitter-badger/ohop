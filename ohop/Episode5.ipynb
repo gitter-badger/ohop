{
 "cells": [
  {
   "cell_type": "code",
   "execution_count": 1,
   "id": "326107a9",
   "metadata": {},
   "outputs": [
    {
     "name": "stderr",
     "output_type": "stream",
     "text": [
      "ERROR:root:Exception in cell.\n",
      "Traceback (most recent call last):\n",
      "  File \"/home/jon/git/ohop/ohop/nbimport.py\", line 73, in load_module\n",
      "    exec(code, manager.namespace)\n",
      "  File \"<string>\", line 1, in <module>\n",
      "  File \"<string>\", line 1\n",
      "    the_possibly_worst_answer = 0\n",
      "                              ^\n",
      "SyntaxError: invalid syntax\n",
      "ERROR:root:Exception in cell.\n",
      "Traceback (most recent call last):\n",
      "  File \"/home/jon/git/ohop/ohop/nbimport.py\", line 73, in load_module\n",
      "    exec(code, manager.namespace)\n",
      "  File \"<string>\", line 2, in <module>\n",
      "  File \"<string>\", line 1\n",
      "    not_a_good_answer = -1\n",
      "                      ^\n",
      "SyntaxError: invalid syntax\n"
     ]
    },
    {
     "name": "stdout",
     "output_type": "stream",
     "text": [
      "41\n",
      "0\n"
     ]
    }
   ],
   "source": [
    "import nbimport\n",
    "import MetaMagicsPlay"
   ]
  },
  {
   "cell_type": "code",
   "execution_count": 3,
   "id": "55cdcd69",
   "metadata": {},
   "outputs": [
    {
     "data": {
      "text/plain": [
       "['__name__',\n",
       " '__doc__',\n",
       " '__package__',\n",
       " '__loader__',\n",
       " '__spec__',\n",
       " '__file__',\n",
       " 'get_ipython',\n",
       " '__builtins__',\n",
       " 'the_possibly_worst_answer']"
      ]
     },
     "execution_count": 3,
     "metadata": {},
     "output_type": "execute_result"
    }
   ],
   "source": [
    "list(MetaMagicsPlay.__dict__.keys())"
   ]
  },
  {
   "cell_type": "code",
   "execution_count": 4,
   "id": "d60b2d8f",
   "metadata": {},
   "outputs": [
    {
     "data": {
      "text/plain": [
       "0"
      ]
     },
     "execution_count": 4,
     "metadata": {},
     "output_type": "execute_result"
    }
   ],
   "source": [
    "MetaMagicsPlay.the_possibly_worst_answer"
   ]
  },
  {
   "cell_type": "code",
   "execution_count": 5,
   "id": "04871b8e",
   "metadata": {},
   "outputs": [
    {
     "name": "stdout",
     "output_type": "stream",
     "text": [
      "The metamagics extension is already loaded. To reload it, use:\n",
      "  %reload_ext metamagics\n"
     ]
    }
   ],
   "source": [
    "%load_ext metamagics"
   ]
  },
  {
   "cell_type": "code",
   "execution_count": 6,
   "id": "23e5c954",
   "metadata": {},
   "outputs": [
    {
     "data": {
      "text/plain": [
       "0"
      ]
     },
     "execution_count": 6,
     "metadata": {},
     "output_type": "execute_result"
    }
   ],
   "source": [
    "%myline MetaMagicsPlay.the_possibly_worst_answer"
   ]
  },
  {
   "cell_type": "code",
   "execution_count": 7,
   "id": "08db7a26",
   "metadata": {},
   "outputs": [],
   "source": [
    "def a_foot(cell):\n",
    "    print(f'The cell is {\"\" if cell.startswith(\"12\") else \"NOT \"}afoot!')\n"
   ]
  },
  {
   "cell_type": "code",
   "execution_count": 8,
   "id": "045232b7",
   "metadata": {},
   "outputs": [
    {
     "name": "stdout",
     "output_type": "stream",
     "text": [
      "The cell is afoot!\n"
     ]
    }
   ],
   "source": [
    "%%mycell a_foot\n",
    "12 inches?"
   ]
  },
  {
   "cell_type": "code",
   "execution_count": 9,
   "id": "61fb0449",
   "metadata": {},
   "outputs": [
    {
     "data": {
      "text/plain": [
       "(<ast.Expression at 0xffffa06f6bb0>, <ast.Module at 0xffffa06f6640>)"
      ]
     },
     "execution_count": 9,
     "metadata": {},
     "output_type": "execute_result"
    }
   ],
   "source": [
    "import ast\n",
    "eval_ast = ast.parse('1 + 2', mode='eval')\n",
    "exec_ast = ast.parse('1 + 2', mode='exec')\n",
    "eval_ast, exec_ast"
   ]
  },
  {
   "cell_type": "code",
   "execution_count": 12,
   "id": "4076ecf8",
   "metadata": {},
   "outputs": [],
   "source": [
    "class MyVisitor(ast.NodeVisitor):\n",
    "    def __init__(self):\n",
    "        self.names = {}\n",
    "\n",
    "    def visit_Name(self, node):\n",
    "        print(ast.dump(node, indent=2))\n",
    "        self.names[node.id] = node\n",
    "        self.generic_visit(node)\n",
    "    \n",
    "    def visit_Store(self, node):\n",
    "        print(f'I have a store node: {ast.dump(node)}')\n",
    "\n",
    "def ouroboros(cell):\n",
    "    cell_ast = ast.parse(cell, mode='exec')\n",
    "    visitor = MyVisitor()\n",
    "    visitor.visit(cell_ast)\n",
    "    cell_co = compile(cell_ast, '<ouroboros-cell>', 'exec')\n",
    "    exec(cell_co)\n",
    "    return visitor\n"
   ]
  },
  {
   "cell_type": "code",
   "execution_count": 13,
   "id": "f498aa3a",
   "metadata": {},
   "outputs": [
    {
     "name": "stdout",
     "output_type": "stream",
     "text": [
      "Name(id='print', ctx=Load())\n",
      "Name(id='curious', ctx=Store())\n",
      "I have a store node: Store()\n",
      "Name(id='curious', ctx=Load())\n",
      "Name(id='print', ctx=Load())\n",
      "Name(id='curious', ctx=Store())\n",
      "I have a store node: Store()\n",
      "Silly snake, Python is for the curious!\n",
      "Go to grad school!\n"
     ]
    },
    {
     "data": {
      "text/plain": [
       "<__main__.MyVisitor at 0xffff8fe4b550>"
      ]
     },
     "execution_count": 13,
     "metadata": {},
     "output_type": "execute_result"
    }
   ],
   "source": [
    "%%mycell ouroboros\n",
    "print('Silly snake, Python is for the curious!')\n",
    "curious = True\n",
    "if curious:\n",
    "    print('Go to grad school!')\n",
    "    curious = False\n"
   ]
  },
  {
   "cell_type": "code",
   "execution_count": 15,
   "id": "102c4fde",
   "metadata": {},
   "outputs": [
    {
     "data": {
      "text/plain": [
       "{'print': <ast.Name at 0xffff8fe4b9d0>,\n",
       " 'curious': <ast.Name at 0xffff8fe4b8b0>}"
      ]
     },
     "execution_count": 15,
     "metadata": {},
     "output_type": "execute_result"
    }
   ],
   "source": [
    "visitor = _13\n",
    "visitor.names"
   ]
  },
  {
   "cell_type": "code",
   "execution_count": 19,
   "id": "b2fa4bb5",
   "metadata": {},
   "outputs": [
    {
     "data": {
      "text/plain": [
       "5"
      ]
     },
     "execution_count": 19,
     "metadata": {},
     "output_type": "execute_result"
    }
   ],
   "source": [
    "visitor.names['curious'].lineno"
   ]
  },
  {
   "cell_type": "code",
   "execution_count": 20,
   "id": "c7f0d42a",
   "metadata": {},
   "outputs": [
    {
     "data": {
      "text/plain": [
       "4"
      ]
     },
     "execution_count": 20,
     "metadata": {},
     "output_type": "execute_result"
    }
   ],
   "source": [
    "visitor.names['curious'].col_offset"
   ]
  },
  {
   "cell_type": "code",
   "execution_count": null,
   "id": "abf42211",
   "metadata": {},
   "outputs": [],
   "source": []
  }
 ],
 "metadata": {
  "kernelspec": {
   "display_name": "Python 3",
   "language": "python",
   "name": "python3"
  },
  "language_info": {
   "codemirror_mode": {
    "name": "ipython",
    "version": 3
   },
   "file_extension": ".py",
   "mimetype": "text/x-python",
   "name": "python",
   "nbconvert_exporter": "python",
   "pygments_lexer": "ipython3",
   "version": "3.9.4"
  }
 },
 "nbformat": 4,
 "nbformat_minor": 5
}
