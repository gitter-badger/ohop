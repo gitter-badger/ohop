{
 "cells": [
  {
   "cell_type": "code",
   "execution_count": 1,
   "id": "3ca9dc5b",
   "metadata": {},
   "outputs": [],
   "source": [
    "import ast, copy, dis\n",
    "import nbimport, sublambda"
   ]
  },
  {
   "cell_type": "code",
   "execution_count": 2,
   "id": "120ec9cf",
   "metadata": {},
   "outputs": [],
   "source": [
    "import Episode12"
   ]
  },
  {
   "cell_type": "markdown",
   "id": "e016908b",
   "metadata": {},
   "source": [
    "# Step 1: Write (or copy) a hygiene test case"
   ]
  },
  {
   "cell_type": "code",
   "execution_count": 3,
   "id": "83a34e4f",
   "metadata": {},
   "outputs": [],
   "source": [
    "test_code = '''\n",
    "def wonkification():\n",
    "    z = 42\n",
    "    f(99)\n",
    "    return z\n",
    "'''\n",
    "test_substitution = ('f', 'lambda x: (z := x ** 2, z + x + 1)[-1]')"
   ]
  },
  {
   "cell_type": "code",
   "execution_count": 5,
   "id": "a68ffde5",
   "metadata": {},
   "outputs": [
    {
     "data": {
      "text/plain": [
       "42"
      ]
     },
     "execution_count": 5,
     "metadata": {},
     "output_type": "execute_result"
    }
   ],
   "source": [
    "f = lambda x: (z := x ** 2, z + x + 1)[-1]\n",
    "\n",
    "def wonkification():\n",
    "    z = 42\n",
    "    f(99)\n",
    "    return z\n",
    "\n",
    "wonkification()"
   ]
  },
  {
   "cell_type": "code",
   "execution_count": 8,
   "id": "3e9261a7",
   "metadata": {},
   "outputs": [
    {
     "name": "stdout",
     "output_type": "stream",
     "text": [
      "Name(id='x', ctx=Load())\n",
      "-->\n",
      "Constant(value=99)\n",
      "Name(id='x', ctx=Load())\n",
      "-->\n",
      "Constant(value=99)\n",
      "Call(\n",
      "  func=Name(id='f', ctx=Load()),\n",
      "  args=[\n",
      "    Constant(value=99)],\n",
      "  keywords=[])\n",
      "-->\n",
      "Subscript(\n",
      "  value=Tuple(\n",
      "    elts=[\n",
      "      NamedExpr(\n",
      "        target=Name(id='z', ctx=Store()),\n",
      "        value=BinOp(\n",
      "          left=Constant(value=99),\n",
      "          op=Pow(),\n",
      "          right=Constant(value=2))),\n",
      "      BinOp(\n",
      "        left=BinOp(\n",
      "          left=Name(id='z', ctx=Load()),\n",
      "          op=Add(),\n",
      "          right=Constant(value=99)),\n",
      "        op=Add(),\n",
      "        right=Constant(value=1))],\n",
      "    ctx=Load()),\n",
      "  slice=UnaryOp(\n",
      "    op=USub(),\n",
      "    operand=Constant(value=1)),\n",
      "  ctx=Load())\n",
      "===\n"
     ]
    },
    {
     "data": {
      "text/plain": [
       "False"
      ]
     },
     "execution_count": 8,
     "metadata": {},
     "output_type": "execute_result"
    }
   ],
   "source": [
    "def test_transform(build_transformer):\n",
    "    transformer = build_transformer(*test_substitution)\n",
    "    transformed = transformer(test_code)\n",
    "    exec(compile(transformed, '<string>', 'exec'), globals())\n",
    "    return wonkification() == 42\n",
    "\n",
    "test_transform(Episode12.inline_lambda)"
   ]
  },
  {
   "cell_type": "code",
   "execution_count": 9,
   "id": "ee8c3076",
   "metadata": {},
   "outputs": [
    {
     "data": {
      "text/plain": [
       "9801"
      ]
     },
     "execution_count": 9,
     "metadata": {},
     "output_type": "execute_result"
    }
   ],
   "source": [
    "wonkification()"
   ]
  },
  {
   "cell_type": "markdown",
   "id": "7668daae",
   "metadata": {},
   "source": [
    "# Step 2: Watch the `sublambda` little language fail...\n",
    "\n",
    "Hint: `%%mycell sublambda.sublambdas('transformer_name')`"
   ]
  },
  {
   "cell_type": "code",
   "execution_count": 13,
   "id": "549d6ab6",
   "metadata": {},
   "outputs": [
    {
     "data": {
      "text/plain": [
       "<function sublambda.inline_lambdas.<locals>.inliner(source)>"
      ]
     },
     "execution_count": 13,
     "metadata": {},
     "output_type": "execute_result"
    }
   ],
   "source": [
    "%%mycell sublambda.sublambdas('mytransformer')\n",
    "mypoly lambda x: x ** 2 + x + 1"
   ]
  },
  {
   "cell_type": "code",
   "execution_count": 14,
   "id": "291ee86c",
   "metadata": {},
   "outputs": [
    {
     "data": {
      "text/plain": [
       "<ast.Module at 0x10aa02190>"
      ]
     },
     "execution_count": 14,
     "metadata": {},
     "output_type": "execute_result"
    }
   ],
   "source": [
    "%%mycell mytransformer\n",
    "mypoly(42)"
   ]
  },
  {
   "cell_type": "code",
   "execution_count": 45,
   "id": "1bb6a3b3",
   "metadata": {},
   "outputs": [
    {
     "data": {
      "text/plain": [
       "<module 'sublambda' from '/Users/jon/git/ohop/ohop/sublambda.py'>"
      ]
     },
     "execution_count": 45,
     "metadata": {},
     "output_type": "execute_result"
    }
   ],
   "source": [
    "from importlib import reload\n",
    "reload(sublambda)"
   ]
  },
  {
   "cell_type": "code",
   "execution_count": 46,
   "id": "c22e1fb0",
   "metadata": {},
   "outputs": [
    {
     "data": {
      "text/plain": [
       "<function sublambda.inline_lambdas.<locals>.inliner(source)>"
      ]
     },
     "execution_count": 46,
     "metadata": {},
     "output_type": "execute_result"
    }
   ],
   "source": [
    "%%mycell sublambda.sublambdas('mytransformer')\n",
    "mypoly lambda x: x ** 2 + x + 1"
   ]
  },
  {
   "cell_type": "code",
   "execution_count": 47,
   "id": "9e12f87c",
   "metadata": {},
   "outputs": [],
   "source": [
    "%%mycell mytransformer\n",
    "foo = mypoly(42)"
   ]
  },
  {
   "cell_type": "code",
   "execution_count": 48,
   "id": "120590f1",
   "metadata": {},
   "outputs": [
    {
     "data": {
      "text/plain": [
       "1807"
      ]
     },
     "execution_count": 48,
     "metadata": {},
     "output_type": "execute_result"
    }
   ],
   "source": [
    "foo"
   ]
  },
  {
   "cell_type": "markdown",
   "id": "76bb474c",
   "metadata": {},
   "source": [
    "# Step 3: Solve for our test case"
   ]
  },
  {
   "cell_type": "code",
   "execution_count": null,
   "id": "5f15747a",
   "metadata": {},
   "outputs": [],
   "source": []
  }
 ],
 "metadata": {
  "kernelspec": {
   "display_name": "Python 3 (ipykernel)",
   "language": "python",
   "name": "python3"
  },
  "language_info": {
   "codemirror_mode": {
    "name": "ipython",
    "version": 3
   },
   "file_extension": ".py",
   "mimetype": "text/x-python",
   "name": "python",
   "nbconvert_exporter": "python",
   "pygments_lexer": "ipython3",
   "version": "3.9.5"
  }
 },
 "nbformat": 4,
 "nbformat_minor": 5
}
