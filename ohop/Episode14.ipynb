{
 "cells": [
  {
   "cell_type": "code",
   "execution_count": 1,
   "id": "1de8f706",
   "metadata": {},
   "outputs": [],
   "source": [
    "import ast, copy, dis\n",
    "import nbimport, sublambda"
   ]
  },
  {
   "cell_type": "code",
   "execution_count": 2,
   "id": "83ae0bc8",
   "metadata": {},
   "outputs": [],
   "source": [
    "import Episode13"
   ]
  },
  {
   "cell_type": "markdown",
   "id": "9a42c7df",
   "metadata": {},
   "source": [
    "# Step 1: Setup episode 13 test case"
   ]
  },
  {
   "cell_type": "code",
   "execution_count": 3,
   "id": "d4853458",
   "metadata": {},
   "outputs": [
    {
     "data": {
      "text/plain": [
       "<function sublambda.inline_lambdas.<locals>.inliner(source)>"
      ]
     },
     "execution_count": 3,
     "metadata": {},
     "output_type": "execute_result"
    }
   ],
   "source": [
    "%%mycell sublambda.sublambdas('ep13_test_case')\n",
    "f lambda x: (z := x ** 2, z + x + 1)[-1]"
   ]
  },
  {
   "cell_type": "code",
   "execution_count": 4,
   "id": "111131fb",
   "metadata": {},
   "outputs": [],
   "source": [
    "%%mycell ep13_test_case\n",
    "\n",
    "def wonkification():\n",
    "    z = 42\n",
    "    f(99)\n",
    "    return z"
   ]
  },
  {
   "cell_type": "code",
   "execution_count": 5,
   "id": "7e51526a",
   "metadata": {},
   "outputs": [
    {
     "name": "stdout",
     "output_type": "stream",
     "text": [
      "9801\n"
     ]
    },
    {
     "data": {
      "text/plain": [
       "False"
      ]
     },
     "execution_count": 5,
     "metadata": {},
     "output_type": "execute_result"
    }
   ],
   "source": [
    "wonky = wonkification()\n",
    "print(wonky)\n",
    "wonky == 42 # Nope..."
   ]
  },
  {
   "cell_type": "code",
   "execution_count": 11,
   "id": "f530df67",
   "metadata": {},
   "outputs": [
    {
     "name": "stdout",
     "output_type": "stream",
     "text": [
      "Expression(\n",
      "  body=Lambda(\n",
      "    args=arguments(\n",
      "      posonlyargs=[],\n",
      "      args=[\n",
      "        arg(arg='x'),\n",
      "        arg(arg='y')],\n",
      "      kwonlyargs=[],\n",
      "      kw_defaults=[],\n",
      "      defaults=[]),\n",
      "    body=Subscript(\n",
      "      value=Tuple(\n",
      "        elts=[\n",
      "          NamedExpr(\n",
      "            target=Name(id='x', ctx=Store()),\n",
      "            value=BinOp(\n",
      "              left=Constant(value=2),\n",
      "              op=Mult(),\n",
      "              right=Name(id='x', ctx=Load()))),\n",
      "          BinOp(\n",
      "            left=Name(id='x', ctx=Load()),\n",
      "            op=Add(),\n",
      "            right=Name(id='y', ctx=Load()))],\n",
      "        ctx=Load()),\n",
      "      slice=UnaryOp(\n",
      "        op=USub(),\n",
      "        operand=Constant(value=1)),\n",
      "      ctx=Load())))\n"
     ]
    }
   ],
   "source": [
    "print(ast.dump(ast.parse('lambda x, y: (x := 2*x, x + y)[-1]', mode='eval'), indent=2))"
   ]
  },
  {
   "cell_type": "markdown",
   "id": "c6bd022c",
   "metadata": {},
   "source": [
    "# Step 2: Write renaming transformer"
   ]
  },
  {
   "cell_type": "code",
   "execution_count": 23,
   "id": "7d7d70e7",
   "metadata": {},
   "outputs": [],
   "source": [
    "class RenameNameTransformer(ast.NodeTransformer):\n",
    "    def __init__(self, names=None):\n",
    "        if names is None:\n",
    "            names = []\n",
    "        self.symbols = {name: None for name in names}\n",
    "\n",
    "    def visit_Lambda(self, node):\n",
    "        for arg in node.args.args:\n",
    "            self.symbols[arg.arg] = arg.arg\n",
    "        return self.generic_visit(node)\n",
    "\n",
    "    def visit_NamedExpr(self, node):\n",
    "        rhs = self.visit(node.value)\n",
    "        lhs = self.visit(node.target)\n",
    "        return ast.NamedExpr(lhs, rhs)\n",
    "\n",
    "    def visit_Name(self, node):\n",
    "        if isinstance(node.ctx, ast.Store):\n",
    "            new_id = f'${node.id}'\n",
    "            self.symbols[node.id] = new_id\n",
    "            return ast.Name(new_id, node.ctx)\n",
    "        elif node.id in self.symbols:\n",
    "            sub_id = self.symbols[node.id]\n",
    "            if sub_id is not None:\n",
    "                return ast.Name(sub_id, node.ctx)\n",
    "        return self.generic_visit(node)"
   ]
  },
  {
   "cell_type": "code",
   "execution_count": 22,
   "id": "b4419606",
   "metadata": {},
   "outputs": [
    {
     "name": "stdout",
     "output_type": "stream",
     "text": [
      "Name(id='x', ctx=Load())\n",
      "Name(id='x', ctx=Store())\n",
      "Name(id='x', ctx=Load())\n",
      "Name(id='y', ctx=Load())\n",
      "Expression(\n",
      "  body=Lambda(\n",
      "    args=arguments(\n",
      "      posonlyargs=[],\n",
      "      args=[\n",
      "        arg(arg='x'),\n",
      "        arg(arg='y')],\n",
      "      kwonlyargs=[],\n",
      "      kw_defaults=[],\n",
      "      defaults=[]),\n",
      "    body=Subscript(\n",
      "      value=Tuple(\n",
      "        elts=[\n",
      "          NamedExpr(\n",
      "            target=Name(id='$x', ctx=Store()),\n",
      "            value=BinOp(\n",
      "              left=Constant(value=2),\n",
      "              op=Mult(),\n",
      "              right=Name(id='x', ctx=Load()))),\n",
      "          BinOp(\n",
      "            left=Name(id='$x', ctx=Load()),\n",
      "            op=Add(),\n",
      "            right=Name(id='y', ctx=Load()))],\n",
      "        ctx=Load()),\n",
      "      slice=UnaryOp(\n",
      "        op=USub(),\n",
      "        operand=Constant(value=1)),\n",
      "      ctx=Load())))\n",
      "lambda x, y: (($x := (2 * x)), $x + y)[-1]\n"
     ]
    }
   ],
   "source": [
    "renamer = RenameNameTransformer()\n",
    "lambda_tree_0 = ast.parse('lambda x, y: (x := 2*x, x + y)[-1]', mode='eval')\n",
    "lambda_tree_1 = ast.fix_missing_locations(renamer.visit(lambda_tree_0))\n",
    "print(ast.dump(lambda_tree_1, indent=2))\n",
    "print(ast.unparse(lambda_tree_1))"
   ]
  },
  {
   "cell_type": "code",
   "execution_count": 25,
   "id": "bd543cd4",
   "metadata": {},
   "outputs": [
    {
     "name": "stdout",
     "output_type": "stream",
     "text": [
      "  1           0 LOAD_CONST               0 (<code object <lambda> at 0x118c063a0, file \"<transformed-string>\", line 1>)\n",
      "              2 LOAD_CONST               1 ('<lambda>')\n",
      "              4 MAKE_FUNCTION            0\n",
      "              6 RETURN_VALUE\n",
      "\n",
      "Disassembly of <code object <lambda> at 0x118c063a0, file \"<transformed-string>\", line 1>:\n",
      "  1           0 LOAD_CONST               1 (2)\n",
      "              2 LOAD_FAST                0 (x)\n",
      "              4 BINARY_MULTIPLY\n",
      "              6 DUP_TOP\n",
      "              8 STORE_FAST               2 ($x)\n",
      "             10 LOAD_FAST                2 ($x)\n",
      "             12 LOAD_FAST                1 (y)\n",
      "             14 BINARY_ADD\n",
      "             16 BUILD_TUPLE              2\n",
      "             18 LOAD_CONST               2 (-1)\n",
      "             20 BINARY_SUBSCR\n",
      "             22 RETURN_VALUE\n"
     ]
    },
    {
     "data": {
      "text/plain": [
       "7"
      ]
     },
     "execution_count": 25,
     "metadata": {},
     "output_type": "execute_result"
    }
   ],
   "source": [
    "code_obj = compile(lambda_tree_1, '<transformed-string>', 'eval')\n",
    "dis.dis(code_obj)\n",
    "eval(code_obj)(2, 3)"
   ]
  },
  {
   "cell_type": "code",
   "execution_count": 26,
   "id": "496f2709",
   "metadata": {},
   "outputs": [
    {
     "ename": "SyntaxError",
     "evalue": "invalid syntax (<unknown>, line 1)",
     "output_type": "error",
     "traceback": [
      "Traceback \u001b[0;36m(most recent call last)\u001b[0m:\n",
      "  File \u001b[1;32m\"/Users/jon/miniforge3/envs/ohop/lib/python3.9/site-packages/IPython/core/interactiveshell.py\"\u001b[0m, line \u001b[1;32m3441\u001b[0m, in \u001b[1;35mrun_code\u001b[0m\n    exec(code_obj, self.user_global_ns, self.user_ns)\n",
      "  File \u001b[1;32m\"/var/folders/q7/ylhf40fn5kq9xrbfmsl61q4h0000gn/T/ipykernel_24954/2072189912.py\"\u001b[0m, line \u001b[1;32m1\u001b[0m, in \u001b[1;35m<module>\u001b[0m\n    ast.parse(ast.unparse(lambda_tree_1), mode='eval')\n",
      "\u001b[0;36m  File \u001b[0;32m\"/Users/jon/miniforge3/envs/ohop/lib/python3.9/ast.py\"\u001b[0;36m, line \u001b[0;32m50\u001b[0;36m, in \u001b[0;35mparse\u001b[0;36m\u001b[0m\n\u001b[0;31m    return compile(source, filename, mode, flags,\u001b[0m\n",
      "\u001b[0;36m  File \u001b[0;32m\"<unknown>\"\u001b[0;36m, line \u001b[0;32m1\u001b[0m\n\u001b[0;31m    lambda x, y: (($x := (2 * x)), $x + y)[-1]\u001b[0m\n\u001b[0m                   ^\u001b[0m\n\u001b[0;31mSyntaxError\u001b[0m\u001b[0;31m:\u001b[0m invalid syntax\n"
     ]
    }
   ],
   "source": [
    "ast.parse(ast.unparse(lambda_tree_1), mode='eval')"
   ]
  },
  {
   "cell_type": "markdown",
   "id": "dcf716f1",
   "metadata": {},
   "source": [
    "# Step 3: Inject transformer into rewrite chain"
   ]
  },
  {
   "cell_type": "code",
   "execution_count": 37,
   "id": "6ed929d9",
   "metadata": {},
   "outputs": [],
   "source": [
    "def build_hygienic_closure(in_expr):\n",
    "    renamed_expr = RenameNameTransformer().visit(in_expr)\n",
    "    print(ast.dump(renamed_expr, indent=2))\n",
    "    visitor = sublambda.LambdaVisitor(renamed_expr)\n",
    "    def _sub_closure(*args, **kws):\n",
    "        assert len(args) == len(visitor._lambda_args)\n",
    "        result = copy.deepcopy(visitor._lambda_body)\n",
    "        transformer = NameSubstitutionTransformer(**{k: v for k, v in zip(visitor._lambda_args, args)})\n",
    "        return ast.fix_missing_locations(transformer.visit(result))\n",
    "    return _sub_closure\n",
    "\n",
    "def inline_hygienic_lambdas(pairs):\n",
    "    substitutions = {name: build_hygienic_closure(expr) for name, expr in pairs}\n",
    "    transformer = sublambda.ParametricSubstitutionTransformer(**substitutions)\n",
    "    def inliner(source):\n",
    "        target = ast.parse(source)\n",
    "        return ast.fix_missing_locations(transformer.visit(target))\n",
    "    return inliner\n",
    "\n",
    "def build_hygienic_sublambdas(cell):\n",
    "    the_lambdas0 = [ln.split(' ', 1) for ln in cell.split('\\n')]\n",
    "    the_lambdas = [(content[0], content[1])\n",
    "                   for content in the_lambdas0\n",
    "                   if len(content) == 2]\n",
    "    return inline_hygienic_lambdas(the_lambdas)\n",
    "\n",
    "def hygienic_sublambdas(transformer_name):\n",
    "    def binding_hygienic_sublambdas(cell0, shell):\n",
    "        inliner = build_hygienic_sublambdas(cell0)\n",
    "        def the_magic(cell1, shell):\n",
    "            inlined = inliner(cell1)\n",
    "            return shell.ex(compile(inlined, '<substituted-string>', 'exec'))\n",
    "        shell.user_global_ns[transformer_name] = the_magic\n",
    "        return inliner\n",
    "    return binding_hygienic_sublambdas\n"
   ]
  },
  {
   "cell_type": "code",
   "execution_count": 39,
   "id": "8cde3eb9",
   "metadata": {},
   "outputs": [
    {
     "ename": "AttributeError",
     "evalue": "'str' object has no attribute '_fields'",
     "output_type": "error",
     "traceback": [
      "\u001b[0;31m---------------------------------------------------------------------------\u001b[0m",
      "\u001b[0;31mAttributeError\u001b[0m                            Traceback (most recent call last)",
      "\u001b[0;32m/var/folders/q7/ylhf40fn5kq9xrbfmsl61q4h0000gn/T/ipykernel_24954/675661487.py\u001b[0m in \u001b[0;36m<module>\u001b[0;34m\u001b[0m\n\u001b[0;32m----> 1\u001b[0;31m \u001b[0mget_ipython\u001b[0m\u001b[0;34m(\u001b[0m\u001b[0;34m)\u001b[0m\u001b[0;34m.\u001b[0m\u001b[0mrun_cell_magic\u001b[0m\u001b[0;34m(\u001b[0m\u001b[0;34m'mycell'\u001b[0m\u001b[0;34m,\u001b[0m \u001b[0;34m\"hygienic_sublambdas('ep14_test_case')\"\u001b[0m\u001b[0;34m,\u001b[0m \u001b[0;34m'f lambda x: (z := x ** 2, z + x + 1)[-1]\\n'\u001b[0m\u001b[0;34m)\u001b[0m\u001b[0;34m\u001b[0m\u001b[0;34m\u001b[0m\u001b[0m\n\u001b[0m",
      "\u001b[0;32m~/miniforge3/envs/ohop/lib/python3.9/site-packages/IPython/core/interactiveshell.py\u001b[0m in \u001b[0;36mrun_cell_magic\u001b[0;34m(self, magic_name, line, cell)\u001b[0m\n\u001b[1;32m   2401\u001b[0m             \u001b[0;32mwith\u001b[0m \u001b[0mself\u001b[0m\u001b[0;34m.\u001b[0m\u001b[0mbuiltin_trap\u001b[0m\u001b[0;34m:\u001b[0m\u001b[0;34m\u001b[0m\u001b[0;34m\u001b[0m\u001b[0m\n\u001b[1;32m   2402\u001b[0m                 \u001b[0margs\u001b[0m \u001b[0;34m=\u001b[0m \u001b[0;34m(\u001b[0m\u001b[0mmagic_arg_s\u001b[0m\u001b[0;34m,\u001b[0m \u001b[0mcell\u001b[0m\u001b[0;34m)\u001b[0m\u001b[0;34m\u001b[0m\u001b[0;34m\u001b[0m\u001b[0m\n\u001b[0;32m-> 2403\u001b[0;31m                 \u001b[0mresult\u001b[0m \u001b[0;34m=\u001b[0m \u001b[0mfn\u001b[0m\u001b[0;34m(\u001b[0m\u001b[0;34m*\u001b[0m\u001b[0margs\u001b[0m\u001b[0;34m,\u001b[0m \u001b[0;34m**\u001b[0m\u001b[0mkwargs\u001b[0m\u001b[0;34m)\u001b[0m\u001b[0;34m\u001b[0m\u001b[0;34m\u001b[0m\u001b[0m\n\u001b[0m\u001b[1;32m   2404\u001b[0m             \u001b[0;32mreturn\u001b[0m \u001b[0mresult\u001b[0m\u001b[0;34m\u001b[0m\u001b[0;34m\u001b[0m\u001b[0m\n\u001b[1;32m   2405\u001b[0m \u001b[0;34m\u001b[0m\u001b[0m\n",
      "\u001b[0;32m~/miniforge3/envs/ohop/lib/python3.9/site-packages/decorator.py\u001b[0m in \u001b[0;36mfun\u001b[0;34m(*args, **kw)\u001b[0m\n\u001b[1;32m    230\u001b[0m             \u001b[0;32mif\u001b[0m \u001b[0;32mnot\u001b[0m \u001b[0mkwsyntax\u001b[0m\u001b[0;34m:\u001b[0m\u001b[0;34m\u001b[0m\u001b[0;34m\u001b[0m\u001b[0m\n\u001b[1;32m    231\u001b[0m                 \u001b[0margs\u001b[0m\u001b[0;34m,\u001b[0m \u001b[0mkw\u001b[0m \u001b[0;34m=\u001b[0m \u001b[0mfix\u001b[0m\u001b[0;34m(\u001b[0m\u001b[0margs\u001b[0m\u001b[0;34m,\u001b[0m \u001b[0mkw\u001b[0m\u001b[0;34m,\u001b[0m \u001b[0msig\u001b[0m\u001b[0;34m)\u001b[0m\u001b[0;34m\u001b[0m\u001b[0;34m\u001b[0m\u001b[0m\n\u001b[0;32m--> 232\u001b[0;31m             \u001b[0;32mreturn\u001b[0m \u001b[0mcaller\u001b[0m\u001b[0;34m(\u001b[0m\u001b[0mfunc\u001b[0m\u001b[0;34m,\u001b[0m \u001b[0;34m*\u001b[0m\u001b[0;34m(\u001b[0m\u001b[0mextras\u001b[0m \u001b[0;34m+\u001b[0m \u001b[0margs\u001b[0m\u001b[0;34m)\u001b[0m\u001b[0;34m,\u001b[0m \u001b[0;34m**\u001b[0m\u001b[0mkw\u001b[0m\u001b[0;34m)\u001b[0m\u001b[0;34m\u001b[0m\u001b[0;34m\u001b[0m\u001b[0m\n\u001b[0m\u001b[1;32m    233\u001b[0m     \u001b[0mfun\u001b[0m\u001b[0;34m.\u001b[0m\u001b[0m__name__\u001b[0m \u001b[0;34m=\u001b[0m \u001b[0mfunc\u001b[0m\u001b[0;34m.\u001b[0m\u001b[0m__name__\u001b[0m\u001b[0;34m\u001b[0m\u001b[0;34m\u001b[0m\u001b[0m\n\u001b[1;32m    234\u001b[0m     \u001b[0mfun\u001b[0m\u001b[0;34m.\u001b[0m\u001b[0m__doc__\u001b[0m \u001b[0;34m=\u001b[0m \u001b[0mfunc\u001b[0m\u001b[0;34m.\u001b[0m\u001b[0m__doc__\u001b[0m\u001b[0;34m\u001b[0m\u001b[0;34m\u001b[0m\u001b[0m\n",
      "\u001b[0;32m~/miniforge3/envs/ohop/lib/python3.9/site-packages/IPython/core/magic.py\u001b[0m in \u001b[0;36m<lambda>\u001b[0;34m(f, *a, **k)\u001b[0m\n\u001b[1;32m    185\u001b[0m     \u001b[0;31m# but it's overkill for just that one bit of state.\u001b[0m\u001b[0;34m\u001b[0m\u001b[0;34m\u001b[0m\u001b[0;34m\u001b[0m\u001b[0m\n\u001b[1;32m    186\u001b[0m     \u001b[0;32mdef\u001b[0m \u001b[0mmagic_deco\u001b[0m\u001b[0;34m(\u001b[0m\u001b[0marg\u001b[0m\u001b[0;34m)\u001b[0m\u001b[0;34m:\u001b[0m\u001b[0;34m\u001b[0m\u001b[0;34m\u001b[0m\u001b[0m\n\u001b[0;32m--> 187\u001b[0;31m         \u001b[0mcall\u001b[0m \u001b[0;34m=\u001b[0m \u001b[0;32mlambda\u001b[0m \u001b[0mf\u001b[0m\u001b[0;34m,\u001b[0m \u001b[0;34m*\u001b[0m\u001b[0ma\u001b[0m\u001b[0;34m,\u001b[0m \u001b[0;34m**\u001b[0m\u001b[0mk\u001b[0m\u001b[0;34m:\u001b[0m \u001b[0mf\u001b[0m\u001b[0;34m(\u001b[0m\u001b[0;34m*\u001b[0m\u001b[0ma\u001b[0m\u001b[0;34m,\u001b[0m \u001b[0;34m**\u001b[0m\u001b[0mk\u001b[0m\u001b[0;34m)\u001b[0m\u001b[0;34m\u001b[0m\u001b[0;34m\u001b[0m\u001b[0m\n\u001b[0m\u001b[1;32m    188\u001b[0m \u001b[0;34m\u001b[0m\u001b[0m\n\u001b[1;32m    189\u001b[0m         \u001b[0;32mif\u001b[0m \u001b[0mcallable\u001b[0m\u001b[0;34m(\u001b[0m\u001b[0marg\u001b[0m\u001b[0;34m)\u001b[0m\u001b[0;34m:\u001b[0m\u001b[0;34m\u001b[0m\u001b[0;34m\u001b[0m\u001b[0m\n",
      "\u001b[0;32m~/git/ohop/ohop/metamagics.py\u001b[0m in \u001b[0;36mmycell\u001b[0;34m(self, line, cell)\u001b[0m\n\u001b[1;32m     25\u001b[0m                 \u001b[0;32mreturn\u001b[0m \u001b[0mmyline\u001b[0m\u001b[0;34m(\u001b[0m\u001b[0mcell\u001b[0m\u001b[0;34m)\u001b[0m\u001b[0;34m\u001b[0m\u001b[0;34m\u001b[0m\u001b[0m\n\u001b[1;32m     26\u001b[0m             \u001b[0;32melif\u001b[0m \u001b[0mmyline_param_count\u001b[0m \u001b[0;34m>\u001b[0m \u001b[0;36m1\u001b[0m\u001b[0;34m:\u001b[0m\u001b[0;34m\u001b[0m\u001b[0;34m\u001b[0m\u001b[0m\n\u001b[0;32m---> 27\u001b[0;31m                 \u001b[0;32mreturn\u001b[0m \u001b[0mmyline\u001b[0m\u001b[0;34m(\u001b[0m\u001b[0mcell\u001b[0m\u001b[0;34m,\u001b[0m \u001b[0mself\u001b[0m\u001b[0;34m.\u001b[0m\u001b[0mshell\u001b[0m\u001b[0;34m)\u001b[0m\u001b[0;34m\u001b[0m\u001b[0;34m\u001b[0m\u001b[0m\n\u001b[0m\u001b[1;32m     28\u001b[0m         \u001b[0;32melse\u001b[0m\u001b[0;34m:\u001b[0m\u001b[0;34m\u001b[0m\u001b[0;34m\u001b[0m\u001b[0m\n\u001b[1;32m     29\u001b[0m             \u001b[0mmycell_ast\u001b[0m \u001b[0;34m=\u001b[0m \u001b[0mparse\u001b[0m\u001b[0;34m(\u001b[0m\u001b[0mcell\u001b[0m\u001b[0;34m,\u001b[0m \u001b[0mmode\u001b[0m\u001b[0;34m=\u001b[0m\u001b[0;34m'exec'\u001b[0m\u001b[0;34m)\u001b[0m\u001b[0;34m\u001b[0m\u001b[0;34m\u001b[0m\u001b[0m\n",
      "\u001b[0;32m/var/folders/q7/ylhf40fn5kq9xrbfmsl61q4h0000gn/T/ipykernel_24954/4114911123.py\u001b[0m in \u001b[0;36mbinding_hygienic_sublambdas\u001b[0;34m(cell0, shell)\u001b[0m\n\u001b[1;32m     27\u001b[0m \u001b[0;32mdef\u001b[0m \u001b[0mhygienic_sublambdas\u001b[0m\u001b[0;34m(\u001b[0m\u001b[0mtransformer_name\u001b[0m\u001b[0;34m)\u001b[0m\u001b[0;34m:\u001b[0m\u001b[0;34m\u001b[0m\u001b[0;34m\u001b[0m\u001b[0m\n\u001b[1;32m     28\u001b[0m     \u001b[0;32mdef\u001b[0m \u001b[0mbinding_hygienic_sublambdas\u001b[0m\u001b[0;34m(\u001b[0m\u001b[0mcell0\u001b[0m\u001b[0;34m,\u001b[0m \u001b[0mshell\u001b[0m\u001b[0;34m)\u001b[0m\u001b[0;34m:\u001b[0m\u001b[0;34m\u001b[0m\u001b[0;34m\u001b[0m\u001b[0m\n\u001b[0;32m---> 29\u001b[0;31m         \u001b[0minliner\u001b[0m \u001b[0;34m=\u001b[0m \u001b[0mbuild_hygienic_sublambdas\u001b[0m\u001b[0;34m(\u001b[0m\u001b[0mcell0\u001b[0m\u001b[0;34m)\u001b[0m\u001b[0;34m\u001b[0m\u001b[0;34m\u001b[0m\u001b[0m\n\u001b[0m\u001b[1;32m     30\u001b[0m         \u001b[0;32mdef\u001b[0m \u001b[0mthe_magic\u001b[0m\u001b[0;34m(\u001b[0m\u001b[0mcell1\u001b[0m\u001b[0;34m,\u001b[0m \u001b[0mshell\u001b[0m\u001b[0;34m)\u001b[0m\u001b[0;34m:\u001b[0m\u001b[0;34m\u001b[0m\u001b[0;34m\u001b[0m\u001b[0m\n\u001b[1;32m     31\u001b[0m             \u001b[0minlined\u001b[0m \u001b[0;34m=\u001b[0m \u001b[0minliner\u001b[0m\u001b[0;34m(\u001b[0m\u001b[0mcell1\u001b[0m\u001b[0;34m)\u001b[0m\u001b[0;34m\u001b[0m\u001b[0;34m\u001b[0m\u001b[0m\n",
      "\u001b[0;32m/var/folders/q7/ylhf40fn5kq9xrbfmsl61q4h0000gn/T/ipykernel_24954/4114911123.py\u001b[0m in \u001b[0;36mbuild_hygienic_sublambdas\u001b[0;34m(cell)\u001b[0m\n\u001b[1;32m     23\u001b[0m                    \u001b[0;32mfor\u001b[0m \u001b[0mcontent\u001b[0m \u001b[0;32min\u001b[0m \u001b[0mthe_lambdas0\u001b[0m\u001b[0;34m\u001b[0m\u001b[0;34m\u001b[0m\u001b[0m\n\u001b[1;32m     24\u001b[0m                    if len(content) == 2]\n\u001b[0;32m---> 25\u001b[0;31m     \u001b[0;32mreturn\u001b[0m \u001b[0minline_hygienic_lambdas\u001b[0m\u001b[0;34m(\u001b[0m\u001b[0mthe_lambdas\u001b[0m\u001b[0;34m)\u001b[0m\u001b[0;34m\u001b[0m\u001b[0;34m\u001b[0m\u001b[0m\n\u001b[0m\u001b[1;32m     26\u001b[0m \u001b[0;34m\u001b[0m\u001b[0m\n\u001b[1;32m     27\u001b[0m \u001b[0;32mdef\u001b[0m \u001b[0mhygienic_sublambdas\u001b[0m\u001b[0;34m(\u001b[0m\u001b[0mtransformer_name\u001b[0m\u001b[0;34m)\u001b[0m\u001b[0;34m:\u001b[0m\u001b[0;34m\u001b[0m\u001b[0;34m\u001b[0m\u001b[0m\n",
      "\u001b[0;32m/var/folders/q7/ylhf40fn5kq9xrbfmsl61q4h0000gn/T/ipykernel_24954/4114911123.py\u001b[0m in \u001b[0;36minline_hygienic_lambdas\u001b[0;34m(pairs)\u001b[0m\n\u001b[1;32m     11\u001b[0m \u001b[0;34m\u001b[0m\u001b[0m\n\u001b[1;32m     12\u001b[0m \u001b[0;32mdef\u001b[0m \u001b[0minline_hygienic_lambdas\u001b[0m\u001b[0;34m(\u001b[0m\u001b[0mpairs\u001b[0m\u001b[0;34m)\u001b[0m\u001b[0;34m:\u001b[0m\u001b[0;34m\u001b[0m\u001b[0;34m\u001b[0m\u001b[0m\n\u001b[0;32m---> 13\u001b[0;31m     \u001b[0msubstitutions\u001b[0m \u001b[0;34m=\u001b[0m \u001b[0;34m{\u001b[0m\u001b[0mname\u001b[0m\u001b[0;34m:\u001b[0m \u001b[0mbuild_hygienic_closure\u001b[0m\u001b[0;34m(\u001b[0m\u001b[0mexpr\u001b[0m\u001b[0;34m)\u001b[0m \u001b[0;32mfor\u001b[0m \u001b[0mname\u001b[0m\u001b[0;34m,\u001b[0m \u001b[0mexpr\u001b[0m \u001b[0;32min\u001b[0m \u001b[0mpairs\u001b[0m\u001b[0;34m}\u001b[0m\u001b[0;34m\u001b[0m\u001b[0;34m\u001b[0m\u001b[0m\n\u001b[0m\u001b[1;32m     14\u001b[0m     \u001b[0mtransformer\u001b[0m \u001b[0;34m=\u001b[0m \u001b[0msublambda\u001b[0m\u001b[0;34m.\u001b[0m\u001b[0mParametricSubstitutionTransformer\u001b[0m\u001b[0;34m(\u001b[0m\u001b[0;34m**\u001b[0m\u001b[0msubstitutions\u001b[0m\u001b[0;34m)\u001b[0m\u001b[0;34m\u001b[0m\u001b[0;34m\u001b[0m\u001b[0m\n\u001b[1;32m     15\u001b[0m     \u001b[0;32mdef\u001b[0m \u001b[0minliner\u001b[0m\u001b[0;34m(\u001b[0m\u001b[0msource\u001b[0m\u001b[0;34m)\u001b[0m\u001b[0;34m:\u001b[0m\u001b[0;34m\u001b[0m\u001b[0;34m\u001b[0m\u001b[0m\n",
      "\u001b[0;32m/var/folders/q7/ylhf40fn5kq9xrbfmsl61q4h0000gn/T/ipykernel_24954/4114911123.py\u001b[0m in \u001b[0;36m<dictcomp>\u001b[0;34m(.0)\u001b[0m\n\u001b[1;32m     11\u001b[0m \u001b[0;34m\u001b[0m\u001b[0m\n\u001b[1;32m     12\u001b[0m \u001b[0;32mdef\u001b[0m \u001b[0minline_hygienic_lambdas\u001b[0m\u001b[0;34m(\u001b[0m\u001b[0mpairs\u001b[0m\u001b[0;34m)\u001b[0m\u001b[0;34m:\u001b[0m\u001b[0;34m\u001b[0m\u001b[0;34m\u001b[0m\u001b[0m\n\u001b[0;32m---> 13\u001b[0;31m     \u001b[0msubstitutions\u001b[0m \u001b[0;34m=\u001b[0m \u001b[0;34m{\u001b[0m\u001b[0mname\u001b[0m\u001b[0;34m:\u001b[0m \u001b[0mbuild_hygienic_closure\u001b[0m\u001b[0;34m(\u001b[0m\u001b[0mexpr\u001b[0m\u001b[0;34m)\u001b[0m \u001b[0;32mfor\u001b[0m \u001b[0mname\u001b[0m\u001b[0;34m,\u001b[0m \u001b[0mexpr\u001b[0m \u001b[0;32min\u001b[0m \u001b[0mpairs\u001b[0m\u001b[0;34m}\u001b[0m\u001b[0;34m\u001b[0m\u001b[0;34m\u001b[0m\u001b[0m\n\u001b[0m\u001b[1;32m     14\u001b[0m     \u001b[0mtransformer\u001b[0m \u001b[0;34m=\u001b[0m \u001b[0msublambda\u001b[0m\u001b[0;34m.\u001b[0m\u001b[0mParametricSubstitutionTransformer\u001b[0m\u001b[0;34m(\u001b[0m\u001b[0;34m**\u001b[0m\u001b[0msubstitutions\u001b[0m\u001b[0;34m)\u001b[0m\u001b[0;34m\u001b[0m\u001b[0;34m\u001b[0m\u001b[0m\n\u001b[1;32m     15\u001b[0m     \u001b[0;32mdef\u001b[0m \u001b[0minliner\u001b[0m\u001b[0;34m(\u001b[0m\u001b[0msource\u001b[0m\u001b[0;34m)\u001b[0m\u001b[0;34m:\u001b[0m\u001b[0;34m\u001b[0m\u001b[0;34m\u001b[0m\u001b[0m\n",
      "\u001b[0;32m/var/folders/q7/ylhf40fn5kq9xrbfmsl61q4h0000gn/T/ipykernel_24954/4114911123.py\u001b[0m in \u001b[0;36mbuild_hygienic_closure\u001b[0;34m(in_expr)\u001b[0m\n\u001b[1;32m      1\u001b[0m \u001b[0;32mdef\u001b[0m \u001b[0mbuild_hygienic_closure\u001b[0m\u001b[0;34m(\u001b[0m\u001b[0min_expr\u001b[0m\u001b[0;34m)\u001b[0m\u001b[0;34m:\u001b[0m\u001b[0;34m\u001b[0m\u001b[0;34m\u001b[0m\u001b[0m\n\u001b[0;32m----> 2\u001b[0;31m     \u001b[0mrenamed_expr\u001b[0m \u001b[0;34m=\u001b[0m \u001b[0mRenameNameTransformer\u001b[0m\u001b[0;34m(\u001b[0m\u001b[0;34m)\u001b[0m\u001b[0;34m.\u001b[0m\u001b[0mvisit\u001b[0m\u001b[0;34m(\u001b[0m\u001b[0min_expr\u001b[0m\u001b[0;34m)\u001b[0m\u001b[0;34m\u001b[0m\u001b[0;34m\u001b[0m\u001b[0m\n\u001b[0m\u001b[1;32m      3\u001b[0m     \u001b[0mprint\u001b[0m\u001b[0;34m(\u001b[0m\u001b[0mast\u001b[0m\u001b[0;34m.\u001b[0m\u001b[0mdump\u001b[0m\u001b[0;34m(\u001b[0m\u001b[0mrenamed_expr\u001b[0m\u001b[0;34m,\u001b[0m \u001b[0mindent\u001b[0m\u001b[0;34m=\u001b[0m\u001b[0;36m2\u001b[0m\u001b[0;34m)\u001b[0m\u001b[0;34m)\u001b[0m\u001b[0;34m\u001b[0m\u001b[0;34m\u001b[0m\u001b[0m\n\u001b[1;32m      4\u001b[0m     \u001b[0mvisitor\u001b[0m \u001b[0;34m=\u001b[0m \u001b[0msublambda\u001b[0m\u001b[0;34m.\u001b[0m\u001b[0mLambdaVisitor\u001b[0m\u001b[0;34m(\u001b[0m\u001b[0mrenamed_expr\u001b[0m\u001b[0;34m)\u001b[0m\u001b[0;34m\u001b[0m\u001b[0;34m\u001b[0m\u001b[0m\n\u001b[1;32m      5\u001b[0m     \u001b[0;32mdef\u001b[0m \u001b[0m_sub_closure\u001b[0m\u001b[0;34m(\u001b[0m\u001b[0;34m*\u001b[0m\u001b[0margs\u001b[0m\u001b[0;34m,\u001b[0m \u001b[0;34m**\u001b[0m\u001b[0mkws\u001b[0m\u001b[0;34m)\u001b[0m\u001b[0;34m:\u001b[0m\u001b[0;34m\u001b[0m\u001b[0;34m\u001b[0m\u001b[0m\n",
      "\u001b[0;32m~/miniforge3/envs/ohop/lib/python3.9/ast.py\u001b[0m in \u001b[0;36mvisit\u001b[0;34m(self, node)\u001b[0m\n\u001b[1;32m    405\u001b[0m         \u001b[0mmethod\u001b[0m \u001b[0;34m=\u001b[0m \u001b[0;34m'visit_'\u001b[0m \u001b[0;34m+\u001b[0m \u001b[0mnode\u001b[0m\u001b[0;34m.\u001b[0m\u001b[0m__class__\u001b[0m\u001b[0;34m.\u001b[0m\u001b[0m__name__\u001b[0m\u001b[0;34m\u001b[0m\u001b[0;34m\u001b[0m\u001b[0m\n\u001b[1;32m    406\u001b[0m         \u001b[0mvisitor\u001b[0m \u001b[0;34m=\u001b[0m \u001b[0mgetattr\u001b[0m\u001b[0;34m(\u001b[0m\u001b[0mself\u001b[0m\u001b[0;34m,\u001b[0m \u001b[0mmethod\u001b[0m\u001b[0;34m,\u001b[0m \u001b[0mself\u001b[0m\u001b[0;34m.\u001b[0m\u001b[0mgeneric_visit\u001b[0m\u001b[0;34m)\u001b[0m\u001b[0;34m\u001b[0m\u001b[0;34m\u001b[0m\u001b[0m\n\u001b[0;32m--> 407\u001b[0;31m         \u001b[0;32mreturn\u001b[0m \u001b[0mvisitor\u001b[0m\u001b[0;34m(\u001b[0m\u001b[0mnode\u001b[0m\u001b[0;34m)\u001b[0m\u001b[0;34m\u001b[0m\u001b[0;34m\u001b[0m\u001b[0m\n\u001b[0m\u001b[1;32m    408\u001b[0m \u001b[0;34m\u001b[0m\u001b[0m\n\u001b[1;32m    409\u001b[0m     \u001b[0;32mdef\u001b[0m \u001b[0mgeneric_visit\u001b[0m\u001b[0;34m(\u001b[0m\u001b[0mself\u001b[0m\u001b[0;34m,\u001b[0m \u001b[0mnode\u001b[0m\u001b[0;34m)\u001b[0m\u001b[0;34m:\u001b[0m\u001b[0;34m\u001b[0m\u001b[0;34m\u001b[0m\u001b[0m\n",
      "\u001b[0;32m~/miniforge3/envs/ohop/lib/python3.9/ast.py\u001b[0m in \u001b[0;36mgeneric_visit\u001b[0;34m(self, node)\u001b[0m\n\u001b[1;32m    476\u001b[0m \u001b[0;34m\u001b[0m\u001b[0m\n\u001b[1;32m    477\u001b[0m     \u001b[0;32mdef\u001b[0m \u001b[0mgeneric_visit\u001b[0m\u001b[0;34m(\u001b[0m\u001b[0mself\u001b[0m\u001b[0;34m,\u001b[0m \u001b[0mnode\u001b[0m\u001b[0;34m)\u001b[0m\u001b[0;34m:\u001b[0m\u001b[0;34m\u001b[0m\u001b[0;34m\u001b[0m\u001b[0m\n\u001b[0;32m--> 478\u001b[0;31m         \u001b[0;32mfor\u001b[0m \u001b[0mfield\u001b[0m\u001b[0;34m,\u001b[0m \u001b[0mold_value\u001b[0m \u001b[0;32min\u001b[0m \u001b[0miter_fields\u001b[0m\u001b[0;34m(\u001b[0m\u001b[0mnode\u001b[0m\u001b[0;34m)\u001b[0m\u001b[0;34m:\u001b[0m\u001b[0;34m\u001b[0m\u001b[0;34m\u001b[0m\u001b[0m\n\u001b[0m\u001b[1;32m    479\u001b[0m             \u001b[0;32mif\u001b[0m \u001b[0misinstance\u001b[0m\u001b[0;34m(\u001b[0m\u001b[0mold_value\u001b[0m\u001b[0;34m,\u001b[0m \u001b[0mlist\u001b[0m\u001b[0;34m)\u001b[0m\u001b[0;34m:\u001b[0m\u001b[0;34m\u001b[0m\u001b[0;34m\u001b[0m\u001b[0m\n\u001b[1;32m    480\u001b[0m                 \u001b[0mnew_values\u001b[0m \u001b[0;34m=\u001b[0m \u001b[0;34m[\u001b[0m\u001b[0;34m]\u001b[0m\u001b[0;34m\u001b[0m\u001b[0;34m\u001b[0m\u001b[0m\n",
      "\u001b[0;32m~/miniforge3/envs/ohop/lib/python3.9/ast.py\u001b[0m in \u001b[0;36miter_fields\u001b[0;34m(node)\u001b[0m\n\u001b[1;32m    247\u001b[0m     \u001b[0mthat\u001b[0m \u001b[0;32mis\u001b[0m \u001b[0mpresent\u001b[0m \u001b[0mon\u001b[0m \u001b[0;34m*\u001b[0m\u001b[0mnode\u001b[0m\u001b[0;34m*\u001b[0m\u001b[0;34m.\u001b[0m\u001b[0;34m\u001b[0m\u001b[0;34m\u001b[0m\u001b[0m\n\u001b[1;32m    248\u001b[0m     \"\"\"\n\u001b[0;32m--> 249\u001b[0;31m     \u001b[0;32mfor\u001b[0m \u001b[0mfield\u001b[0m \u001b[0;32min\u001b[0m \u001b[0mnode\u001b[0m\u001b[0;34m.\u001b[0m\u001b[0m_fields\u001b[0m\u001b[0;34m:\u001b[0m\u001b[0;34m\u001b[0m\u001b[0;34m\u001b[0m\u001b[0m\n\u001b[0m\u001b[1;32m    250\u001b[0m         \u001b[0;32mtry\u001b[0m\u001b[0;34m:\u001b[0m\u001b[0;34m\u001b[0m\u001b[0;34m\u001b[0m\u001b[0m\n\u001b[1;32m    251\u001b[0m             \u001b[0;32myield\u001b[0m \u001b[0mfield\u001b[0m\u001b[0;34m,\u001b[0m \u001b[0mgetattr\u001b[0m\u001b[0;34m(\u001b[0m\u001b[0mnode\u001b[0m\u001b[0;34m,\u001b[0m \u001b[0mfield\u001b[0m\u001b[0;34m)\u001b[0m\u001b[0;34m\u001b[0m\u001b[0;34m\u001b[0m\u001b[0m\n",
      "\u001b[0;31mAttributeError\u001b[0m: 'str' object has no attribute '_fields'"
     ]
    }
   ],
   "source": [
    "%%mycell hygienic_sublambdas('ep14_test_case')\n",
    "f lambda x: (z := x ** 2, z + x + 1)[-1]"
   ]
  },
  {
   "cell_type": "code",
   "execution_count": 30,
   "id": "9dd39063",
   "metadata": {},
   "outputs": [],
   "source": [
    "%%mycell ep14_test_case\n",
    "def wonkification2():\n",
    "    z = 42\n",
    "    f(99)\n",
    "    return z"
   ]
  },
  {
   "cell_type": "code",
   "execution_count": 31,
   "id": "4502757f",
   "metadata": {},
   "outputs": [
    {
     "name": "stdout",
     "output_type": "stream",
     "text": [
      "9801\n"
     ]
    },
    {
     "data": {
      "text/plain": [
       "False"
      ]
     },
     "execution_count": 31,
     "metadata": {},
     "output_type": "execute_result"
    }
   ],
   "source": [
    "not_so_wonky = wonkification2()\n",
    "print(not_so_wonky)\n",
    "not_so_wonky == 42 # Maybe?!"
   ]
  },
  {
   "cell_type": "code",
   "execution_count": 38,
   "id": "77f6fc38",
   "metadata": {},
   "outputs": [
    {
     "name": "stdout",
     "output_type": "stream",
     "text": [
      "Module(\n",
      "  body=[\n",
      "    FunctionDef(\n",
      "      name='wonkification',\n",
      "      args=arguments(\n",
      "        posonlyargs=[],\n",
      "        args=[],\n",
      "        kwonlyargs=[],\n",
      "        kw_defaults=[],\n",
      "        defaults=[]),\n",
      "      body=[\n",
      "        Assign(\n",
      "          targets=[\n",
      "            Name(id='z', ctx=Store())],\n",
      "          value=Constant(value=42)),\n",
      "        Expr(\n",
      "          value=Subscript(\n",
      "            value=Tuple(\n",
      "              elts=[\n",
      "                NamedExpr(\n",
      "                  target=Name(id='z', ctx=Store()),\n",
      "                  value=BinOp(\n",
      "                    left=Constant(value=99),\n",
      "                    op=Pow(),\n",
      "                    right=Constant(value=2))),\n",
      "                BinOp(\n",
      "                  left=BinOp(\n",
      "                    left=Name(id='z', ctx=Load()),\n",
      "                    op=Add(),\n",
      "                    right=Constant(value=99)),\n",
      "                  op=Add(),\n",
      "                  right=Constant(value=1))],\n",
      "              ctx=Load()),\n",
      "            slice=UnaryOp(\n",
      "              op=USub(),\n",
      "              operand=Constant(value=1)),\n",
      "            ctx=Load())),\n",
      "        Return(\n",
      "          value=Name(id='z', ctx=Load()))],\n",
      "      decorator_list=[])],\n",
      "  type_ignores=[])\n"
     ]
    }
   ],
   "source": [
    "# Fail!?! Let's debug...\n",
    "inliner = _29\n",
    "inliner_result = inliner(Episode13.test_code)\n",
    "print(ast.dump(inliner_result, indent=2))"
   ]
  },
  {
   "cell_type": "code",
   "execution_count": null,
   "id": "a7caa719",
   "metadata": {},
   "outputs": [],
   "source": []
  }
 ],
 "metadata": {
  "kernelspec": {
   "display_name": "Python 3 (ipykernel)",
   "language": "python",
   "name": "python3"
  },
  "language_info": {
   "codemirror_mode": {
    "name": "ipython",
    "version": 3
   },
   "file_extension": ".py",
   "mimetype": "text/x-python",
   "name": "python",
   "nbconvert_exporter": "python",
   "pygments_lexer": "ipython3",
   "version": "3.9.5"
  }
 },
 "nbformat": 4,
 "nbformat_minor": 5
}
